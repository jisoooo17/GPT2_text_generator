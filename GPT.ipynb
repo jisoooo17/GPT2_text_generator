{
 "cells": [
  {
   "cell_type": "code",
   "execution_count": null,
   "id": "5385fa74",
   "metadata": {},
   "outputs": [
    {
     "name": "stdout",
     "output_type": "stream",
     "text": [
      "Generated text 1: New Jeans singers are on the podium. So I  have to ask: what is the difference between a \"Jeans\" and a \"Jeans\" with a \"Jeans\" logo?\n",
      "I'm not sure. I'm not\n"
     ]
    }
   ],
   "source": [
    "!pip install -q transformers\n",
    "\n",
    "\n",
    "\n",
    "\n",
    "import torch\n",
    "from transformers import GPT2LMHeadModel, GPT2Tokenizer\n",
    "\n",
    "# 모델 및 토크나이저 초기화\n",
    "tokenizer = GPT2Tokenizer.from_pretrained(\"gpt2-medium\")\n",
    "model = GPT2LMHeadModel.from_pretrained(\"gpt2-medium\")\n",
    "\n",
    "# 문장 시작 부분\n",
    "input_text = \"New Jeans singers are on the podium. So I \"\n",
    "input_ids = tokenizer.encode(input_text, return_tensors=\"pt\")\n",
    "input_ids\n",
    "\n",
    "\n",
    "\n",
    "# 문장 생성\n",
    "output = model.generate(input_ids, max_length=50, num_return_sequences=1, pad_token_id=tokenizer.eos_token_id)\n",
    "output\n",
    "\n",
    "\n",
    "\n",
    "\n",
    "# 생성된 문장 출력\n",
    "for i, generated_text in enumerate(output):\n",
    "    decoded_text = tokenizer.decode(generated_text, skip_special_tokens=True)\n",
    "    print(f\"Generated text {i + 1}: {decoded_text}\")\n",
    "\n"
   ]
  }
 ],
 "metadata": {
  "kernelspec": {
   "display_name": "Python 3 (ipykernel)",
   "language": "python",
   "name": "python3"
  },
  "language_info": {
   "codemirror_mode": {
    "name": "ipython",
    "version": 3
   },
   "file_extension": ".py",
   "mimetype": "text/x-python",
   "name": "python",
   "nbconvert_exporter": "python",
   "pygments_lexer": "ipython3",
   "version": "3.6.15"
  }
 },
 "nbformat": 4,
 "nbformat_minor": 5
}
